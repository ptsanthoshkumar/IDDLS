{
 "cells": [
  {
   "cell_type": "code",
   "execution_count": 1,
   "id": "03e67d96",
   "metadata": {},
   "outputs": [
    {
     "name": "stdout",
     "output_type": "stream",
     "text": [
      "Solution path:\n",
      "[1, 2, 3, 4, 5, 6, 0, 7, 8]\n",
      "[1, 2, 3, 4, 5, 6, 7, 0, 8]\n",
      "[1, 2, 3, 4, 5, 6, 7, 8, 0]\n"
     ]
    }
   ],
   "source": [
    "class Node:\n",
    "    def __init__(self, state, parent=None):\n",
    "        self.state = state\n",
    "        self.parent = parent\n",
    "\n",
    "def expand(node):\n",
    "    children = []\n",
    "    blank_index = node.state.index(0)  # Find the index of the blank tile (represented as 0)\n",
    "\n",
    "    # Define possible moves (up, down, left, right) relative to the blank tile\n",
    "    possible_moves = [(0, -1), (0, 1), (-1, 0), (1, 0)]\n",
    "\n",
    "    for move in possible_moves:\n",
    "        new_row = (blank_index // 3) + move[1]\n",
    "        new_col = (blank_index % 3) + move[0]\n",
    "\n",
    "        if 0 <= new_row < 3 and 0 <= new_col < 3:\n",
    "            new_state = node.state[:]  # Copy the current state\n",
    "            new_index = new_row * 3 + new_col\n",
    "            new_state[blank_index], new_state[new_index] = new_state[new_index], new_state[blank_index]\n",
    "\n",
    "            children.append(Node(new_state, parent=node))\n",
    "\n",
    "    return children\n",
    "\n",
    "def depth_limited_search(node, goal, depth_limit):\n",
    "    if node.state == goal:\n",
    "        return node\n",
    "    elif depth_limit == 0:\n",
    "        return None\n",
    "    else:\n",
    "        for child in expand(node):\n",
    "            result = depth_limited_search(child, goal, depth_limit - 1)\n",
    "            if result is not None:\n",
    "                return result\n",
    "        return None\n",
    "\n",
    "def iterative_deepening_dls(root, goal, max_depth):\n",
    "    for depth in range(max_depth + 1):\n",
    "        result = depth_limited_search(root, goal, depth)\n",
    "        if result is not None:\n",
    "            return result\n",
    "\n",
    "# Define the initial state of the 8-puzzle (0 represents the blank tile)\n",
    "initial_state = [1, 2, 3, 4, 5, 6, 0, 7, 8]\n",
    "\n",
    "# Define the goal state you want to achieve\n",
    "goal_state = [1, 2, 3, 4, 5, 6, 7, 8, 0]\n",
    "\n",
    "\n",
    "# Create the initial state, goal state, and root node\n",
    "root_node = Node(initial_state)\n",
    "\n",
    "# Set a maximum depth for iterative deepening\n",
    "max_depth = 50\n",
    "\n",
    "# Solve the puzzle using iterative deepening depth-limited search\n",
    "solution_node = iterative_deepening_dls(root_node, goal_state, max_depth)\n",
    "\n",
    "# Extract the path from the solution node to the root\n",
    "if solution_node is not None:\n",
    "    path = []\n",
    "    node = solution_node\n",
    "    while node is not None:\n",
    "        path.insert(0, node.state)\n",
    "        node = node.parent\n",
    "    print(\"Solution path:\")\n",
    "    for state in path:\n",
    "        print(state)\n",
    "else:\n",
    "    print(\"Solution not found within depth limit.\")\n"
   ]
  },
  {
   "cell_type": "code",
   "execution_count": null,
   "id": "3b6ff788",
   "metadata": {},
   "outputs": [],
   "source": []
  }
 ],
 "metadata": {
  "kernelspec": {
   "display_name": "Python 3",
   "language": "python",
   "name": "python3"
  },
  "language_info": {
   "codemirror_mode": {
    "name": "ipython",
    "version": 3
   },
   "file_extension": ".py",
   "mimetype": "text/x-python",
   "name": "python",
   "nbconvert_exporter": "python",
   "pygments_lexer": "ipython3",
   "version": "3.8.8"
  }
 },
 "nbformat": 4,
 "nbformat_minor": 5
}
